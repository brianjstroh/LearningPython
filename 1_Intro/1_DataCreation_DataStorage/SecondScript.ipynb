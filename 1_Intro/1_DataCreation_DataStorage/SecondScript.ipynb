{
 "cells": [
  {
   "cell_type": "markdown",
   "metadata": {},
   "source": [
    "Storing Records Persistently"
   ]
  },
  {
   "cell_type": "code",
   "execution_count": 1,
   "metadata": {},
   "outputs": [
    {
     "name": "stdout",
     "output_type": "stream",
     "text": [
      "bob =>\n",
      "  {'name': 'Bob Smith', 'age': 42, 'pay': 30000, 'job': 'dev'}\n",
      "sue =>\n",
      "  {'name': 'Sue Jones', 'age': 45, 'pay': 40000, 'job': 'hdw'}\n",
      "tom =>\n",
      "  {'name': 'Tom', 'age': 50, 'pay': 0, 'job': None}\n"
     ]
    }
   ],
   "source": [
    "#initialize data to be stored in files, pickles, or shelves\n",
    "\n",
    "#records\n",
    "bob = {'name': 'Bob Smith', 'age': 42, 'pay': 30000, 'job': 'dev'}\n",
    "sue = {'name': 'Sue Jones', 'age': 45, 'pay': 40000, 'job': 'hdw'}\n",
    "tom = {'name': 'Tom',       'age': 50, 'pay': 0, 'job': None}\n",
    "\n",
    "#database\n",
    "db = {}\n",
    "db['bob'] = bob\n",
    "db['sue'] = sue\n",
    "db['tom'] = tom\n",
    "\n",
    "#This part is run only when this notebook is run as a top-level script, not when it is imported\n",
    "if __name__ == '__main__':\n",
    "    for key in db:\n",
    "        print(key, '=>\\n ', db[key])"
   ]
  },
  {
   "cell_type": "code",
   "execution_count": null,
   "metadata": {},
   "outputs": [],
   "source": []
  }
 ],
 "metadata": {
  "kernelspec": {
   "display_name": "Python 3",
   "language": "python",
   "name": "python3"
  },
  "language_info": {
   "codemirror_mode": {
    "name": "ipython",
    "version": 3
   },
   "file_extension": ".py",
   "mimetype": "text/x-python",
   "name": "python",
   "nbconvert_exporter": "python",
   "pygments_lexer": "ipython3",
   "version": "3.6.4"
  }
 },
 "nbformat": 4,
 "nbformat_minor": 2
}
